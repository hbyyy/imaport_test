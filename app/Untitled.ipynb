{
 "cells": [
  {
   "cell_type": "code",
   "execution_count": 1,
   "metadata": {},
   "outputs": [],
   "source": [
    "from iamport import Iamport"
   ]
  },
  {
   "cell_type": "code",
   "execution_count": 2,
   "metadata": {},
   "outputs": [],
   "source": [
    "from config.settings import iamport_key, iamport_secret"
   ]
  },
  {
   "cell_type": "code",
   "execution_count": 3,
   "metadata": {},
   "outputs": [],
   "source": [
    "iamport = Iamport(imp_key=iamport_key, imp_secret=iamport_secret)"
   ]
  },
  {
   "cell_type": "code",
   "execution_count": 4,
   "metadata": {},
   "outputs": [
    {
     "data": {
      "text/plain": [
       "<iamport.client.Iamport at 0x7f988c7c7ed0>"
      ]
     },
     "execution_count": 4,
     "metadata": {},
     "output_type": "execute_result"
    }
   ],
   "source": [
    "iamport"
   ]
  },
  {
   "cell_type": "code",
   "execution_count": 5,
   "metadata": {},
   "outputs": [],
   "source": [
    "response = iamport.find(imp_uid='imp_432523753226')"
   ]
  },
  {
   "cell_type": "code",
   "execution_count": 6,
   "metadata": {},
   "outputs": [
    {
     "data": {
      "text/plain": [
       "{'amount': 1000,\n",
       " 'apply_num': '30318835',\n",
       " 'bank_code': None,\n",
       " 'bank_name': None,\n",
       " 'buyer_addr': '서울특별시 강남구 삼성동',\n",
       " 'buyer_email': 'iamport@siot.do',\n",
       " 'buyer_name': '구매자이름',\n",
       " 'buyer_postcode': '123-456',\n",
       " 'buyer_tel': '010-1234-5678',\n",
       " 'cancel_amount': 0,\n",
       " 'cancel_history': [],\n",
       " 'cancel_reason': None,\n",
       " 'cancel_receipt_urls': [],\n",
       " 'cancelled_at': 0,\n",
       " 'card_code': '374',\n",
       " 'card_name': '외환카드',\n",
       " 'card_number': '465583*********9',\n",
       " 'card_quota': 0,\n",
       " 'card_type': 1,\n",
       " 'cash_receipt_issued': False,\n",
       " 'channel': 'pc',\n",
       " 'currency': 'KRW',\n",
       " 'custom_data': None,\n",
       " 'customer_uid': None,\n",
       " 'customer_uid_usage': None,\n",
       " 'escrow': False,\n",
       " 'fail_reason': None,\n",
       " 'failed_at': 0,\n",
       " 'imp_uid': 'imp_432523753226',\n",
       " 'merchant_uid': 'merchant_1594364523540',\n",
       " 'name': '주문명:결제테스트',\n",
       " 'paid_at': 1594364549,\n",
       " 'pay_method': 'card',\n",
       " 'pg_id': 'INIpayTest',\n",
       " 'pg_provider': 'html5_inicis',\n",
       " 'pg_tid': 'StdpayCARDINIpayTest20200710160228870648',\n",
       " 'receipt_url': 'https://iniweb.inicis.com/DefaultWebApp/mall/cr/cm/mCmReceipt_head.jsp?noTid=StdpayCARDINIpayTest20200710160228870648&noMethod=1',\n",
       " 'started_at': 1594364523,\n",
       " 'status': 'paid',\n",
       " 'user_agent': 'Mozilla/5.0 (X11; Linux x86_64) AppleWebKit/537.36 (KHTML, like Gecko) Chrome/83.0.4103.116 Safari/537.36',\n",
       " 'vbank_code': None,\n",
       " 'vbank_date': 0,\n",
       " 'vbank_holder': None,\n",
       " 'vbank_issued_at': 0,\n",
       " 'vbank_name': None,\n",
       " 'vbank_num': None}"
      ]
     },
     "execution_count": 6,
     "metadata": {},
     "output_type": "execute_result"
    }
   ],
   "source": [
    "response"
   ]
  },
  {
   "cell_type": "code",
   "execution_count": 10,
   "metadata": {},
   "outputs": [],
   "source": [
    "response = iamport.cancel(u'취소이유입니다', imp_uid='imp_432523753226')"
   ]
  },
  {
   "cell_type": "code",
   "execution_count": null,
   "metadata": {},
   "outputs": [],
   "source": []
  }
 ],
 "metadata": {
  "kernelspec": {
   "display_name": "Django Shell-Plus",
   "language": "python",
   "name": "django_extensions"
  },
  "language_info": {
   "codemirror_mode": {
    "name": "ipython",
    "version": 3
   },
   "file_extension": ".py",
   "mimetype": "text/x-python",
   "name": "python",
   "nbconvert_exporter": "python",
   "pygments_lexer": "ipython3",
   "version": "3.7.5"
  }
 },
 "nbformat": 4,
 "nbformat_minor": 4
}
